{
 "cells": [
  {
   "cell_type": "code",
   "execution_count": 2,
   "id": "8be8c6ce",
   "metadata": {},
   "outputs": [],
   "source": [
    "from trino import dbapi\n",
    "from trino.auth import OAuth2Authentication\n",
    "\n",
    "conn = dbapi.connect(\n",
    "    host=\"smart-cities-trino.pre-prod.cloud.vtti.vt.edu\",\n",
    "    port=443,\n",
    "    http_scheme=\"https\",\n",
    "    auth=OAuth2Authentication(),   # <-- this is the right one\n",
    "    catalog=\"smartcities_iceberg\",  # optional default\n",
    "    # schema=\"...\",                # optional default\n",
    ")\n"
   ]
  },
  {
   "cell_type": "code",
   "execution_count": 4,
   "id": "366f8169",
   "metadata": {},
   "outputs": [
    {
     "name": "stdout",
     "output_type": "stream",
     "text": [
      "Open the following URL in browser for the external authentication:\n",
      "https://smart-cities-trino.pre-prod.cloud.vtti.vt.edu/oauth2/token/initiate/89141f2e2abc7ed1c8894caf1ea0a1a54e49fa7353a81e7b9dea8c4dfee74fb6\n",
      "[['alexandria'], ['cci'], ['falls-church'], ['information_schema'], ['smart_cities_test'], ['system'], ['tables'], ['vtti']]\n"
     ]
    }
   ],
   "source": [
    "\n",
    "cur = conn.cursor()\n",
    "cur.execute(\"SHOW SCHEMAS\")\n",
    "print(cur.fetchall())"
   ]
  },
  {
   "cell_type": "code",
   "execution_count": 5,
   "id": "835a08a9",
   "metadata": {},
   "outputs": [
    {
     "name": "stdout",
     "output_type": "stream",
     "text": [
      "[['smartcities_iceberg'], ['system']]\n"
     ]
    }
   ],
   "source": [
    "cur.execute(\"SHOW CATALOGS\")\n",
    "print(cur.fetchall())"
   ]
  },
  {
   "cell_type": "code",
   "execution_count": 11,
   "id": "ecbca743",
   "metadata": {},
   "outputs": [
    {
     "name": "stdout",
     "output_type": "stream",
     "text": [
      "[['alexandria'], ['cci'], ['falls-church'], ['information_schema'], ['smart_cities_test'], ['system'], ['tables'], ['vtti']]\n"
     ]
    }
   ],
   "source": [
    "cur.execute(\"SHOW SCHEMAS FROM smartcities_iceberg\")\n",
    "print(cur.fetchall())"
   ]
  },
  {
   "cell_type": "code",
   "execution_count": 12,
   "id": "05016733",
   "metadata": {},
   "outputs": [
    {
     "name": "stdout",
     "output_type": "stream",
     "text": [
      "[['alexandria', 'bsm'], ['alexandria', 'psm'], ['alexandria', 'safety-event'], ['alexandria', 'speed-distribution'], ['alexandria', 'vehicle-count'], ['alexandria', 'vru-count'], ['cci', 'bsm'], ['falls-church', 'hiresdata'], ['falls-church', 'maple_washington'], ['falls-church', 'mediantraveltimes'], ['falls-church', 'old_hiresdata'], ['falls-church', 'old_mediantraveltimes'], ['falls-church', 'old_priority_requests'], ['falls-church', 'old_safety_conflicts'], ['falls-church', 'old_safety_pedcompliance'], ['falls-church', 'old_safety_redlightrunners'], ['falls-church', 'old_safety_simpledelay'], ['falls-church', 'old_tmc'], ['falls-church', 'old_tmc_crosswalk'], ['falls-church', 'old_tmc_lanes']]\n"
     ]
    }
   ],
   "source": [
    "cur.execute(\"\"\"\n",
    "SELECT table_schema, table_name\n",
    "FROM smartcities_iceberg.information_schema.tables\n",
    "ORDER BY table_schema, table_name\n",
    "LIMIT 20\n",
    "\"\"\")\n",
    "print(cur.fetchall())"
   ]
  },
  {
   "cell_type": "code",
   "execution_count": null,
   "id": "64a83877",
   "metadata": {},
   "outputs": [],
   "source": [
    "import pandas as pd\n",
    "\n",
    "df = pd.read_sql(\"\"\"\n",
    "SELECT intersection_id, avg(speed) AS avg_speed\n",
    "FROM smartcities_iceberg.bsm_messages\n",
    "WHERE timestamp >= current_date - interval '1' day\n",
    "GROUP BY 1\n",
    "ORDER BY avg_speed DESC\n",
    "LIMIT 10\n",
    "\"\"\", conn)\n",
    "df.head()"
   ]
  }
 ],
 "metadata": {
  "kernelspec": {
   "display_name": "Python 3",
   "language": "python",
   "name": "python3"
  },
  "language_info": {
   "codemirror_mode": {
    "name": "ipython",
    "version": 3
   },
   "file_extension": ".py",
   "mimetype": "text/x-python",
   "name": "python",
   "nbconvert_exporter": "python",
   "pygments_lexer": "ipython3",
   "version": "3.12.1"
  }
 },
 "nbformat": 4,
 "nbformat_minor": 5
}
